{
  "cells": [
    {
      "cell_type": "markdown",
      "metadata": {
        "id": "view-in-github",
        "colab_type": "text"
      },
      "source": [
        "<a href=\"https://colab.research.google.com/github/VieiraGabrielAlexandre/perfomanceformationpython-alura/blob/main/Perfomance_Formation_With_Python_Alura.ipynb\" target=\"_parent\"><img src=\"https://colab.research.google.com/assets/colab-badge.svg\" alt=\"Open In Colab\"/></a>"
      ]
    },
    {
      "cell_type": "code",
      "source": [
        "origem = (0,0)\n",
        "destino = (4,4)\n",
        "\n",
        "enderecos = [(3,4), (2,2), (8, 3), (5, 3)]"
      ],
      "metadata": {
        "id": "zT8JRIf6PSJr"
      },
      "execution_count": null,
      "outputs": []
    },
    {
      "cell_type": "code",
      "source": [
        "rota = [origem] + enderecos + [destino]\n"
      ],
      "metadata": {
        "id": "Qz8-etfEPU4c"
      },
      "execution_count": null,
      "outputs": []
    },
    {
      "cell_type": "code",
      "source": [
        "import matplotlib.pyplot as plt\n"
      ],
      "metadata": {
        "id": "lEVGqrL7O_-J"
      },
      "execution_count": null,
      "outputs": []
    },
    {
      "cell_type": "code",
      "source": [
        "from scipy.spatial.distance import euclidean as distancia_euclidiana\n"
      ],
      "metadata": {
        "id": "SDT1pqm8PIhY"
      },
      "execution_count": null,
      "outputs": []
    },
    {
      "cell_type": "code",
      "source": [
        "tamanho_rota = len(rota)\n"
      ],
      "metadata": {
        "id": "f6oStS1yPdyh"
      },
      "execution_count": null,
      "outputs": []
    },
    {
      "cell_type": "code",
      "source": [
        "distancia_percorrida = 0\n",
        "\n",
        "for i in range(tamanho_rota):\n",
        "    x, y = rota[i]\n",
        "    cor = \"black\"\n",
        "    if i == 0:\n",
        "        cor = \"blue\"\n",
        "    elif i == tamanho_rota - 1:\n",
        "        cor = \"red\"\n",
        "\n",
        "    plt.scatter(x, y, color=cor)\n",
        "    if i < tamanho_rota - 1:\n",
        "        x1, y1 = rota[i+1]\n",
        "        dx = x1 - x\n",
        "        dy = y1 - y\n",
        "        plt.arrow(x, y, dx, dy, color=\"black\", head_width=0.1)\n",
        "        distancia_percorrida = distancia_percorrida + distancia_euclidiana(rota[i], rota[i+1])\n",
        "\n",
        "print(distancia_percorrida)\n"
      ],
      "metadata": {
        "colab": {
          "base_uri": "https://localhost:8080/",
          "height": 447
        },
        "id": "inEsAk9aPgNx",
        "outputId": "674bfd03-1bba-47b3-bb80-0be86d08e94e"
      },
      "execution_count": null,
      "outputs": [
        {
          "output_type": "stream",
          "name": "stdout",
          "text": [
            "17.733044070171104\n"
          ]
        },
        {
          "output_type": "display_data",
          "data": {
            "text/plain": [
              "<Figure size 640x480 with 1 Axes>"
            ],
            "image/png": "[encoded data removed]"
          },
          "metadata": {}
        }
      ]
    }
  ],
  "metadata": {
    "colab": {
      "name": "Perfomance Formation With Python - Alura",
      "toc_visible": true,
      "provenance": [],
      "include_colab_link": true
    },
    "kernelspec": {
      "display_name": "Python 3",
      "name": "python3"
    }
  },
  "nbformat": 4,
  "nbformat_minor": 0
}